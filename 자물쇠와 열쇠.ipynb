{
  "nbformat": 4,
  "nbformat_minor": 0,
  "metadata": {
    "colab": {
      "name": "Untitled11.ipynb",
      "provenance": [],
      "collapsed_sections": [],
      "authorship_tag": "ABX9TyPpwAVH6oTl+zyH60lkn/9h",
      "include_colab_link": true
    },
    "kernelspec": {
      "name": "python3",
      "display_name": "Python 3"
    },
    "language_info": {
      "name": "python"
    }
  },
  "cells": [
    {
      "cell_type": "markdown",
      "metadata": {
        "id": "view-in-github",
        "colab_type": "text"
      },
      "source": [
        "<a href=\"https://colab.research.google.com/github/leesk212/Daily_Practice_Coding/blob/master/%EC%9E%90%EB%AC%BC%EC%87%A0%EC%99%80%20%EC%97%B4%EC%87%A0.ipynb\" target=\"_parent\"><img src=\"https://colab.research.google.com/assets/colab-badge.svg\" alt=\"Open In Colab\"/></a>"
      ]
    },
    {
      "cell_type": "code",
      "metadata": {
        "id": "GredAirnw_rE"
      },
      "source": [
        "key = [[0,0,0],[1,0,0],[0,1,1]]\n",
        "\n",
        "# 3x3\n",
        "\n",
        "# 0 0 0\n",
        "# 1 0 0\n",
        "# 0 1 1\n",
        "\n",
        "# 000 0000 000 n+2(n-1) --> 3n-2\n",
        "\n",
        "# 0 0 0 0 0 0 0  \n",
        "# 0 0 0 0 0 0 0  \n",
        "# 0 0 0 1 0 0 0 \n",
        "# 0 0 1 0 0 0 0 \n",
        "# 0 0 1 0 0 0 0  \n",
        "# 0 0 0 0 0 0 0  \n",
        "# 0 0 0 0 0 0 0  \n",
        "\n",
        "# 0 0 0 0 0 0 0  \n",
        "# 0 0 0 0 0 0 0  \n",
        "# 0 0 1 1 0 0 0 \n",
        "# 0 0 0 0 1 0 0 \n",
        "# 0 0 0 0 0 0 0  \n",
        "# 0 0 0 0 0 0 0  \n",
        "# 0 0 0 0 0 0 0  \n",
        "\n",
        "# 0 0 0 0 0 0 0  \n",
        "# 0 0 0 0 0 0 0  \n",
        "# 0 0 0 0 1 0 0 \n",
        "# 0 0 0 0 1 0 0 \n",
        "# 0 0 0 1 0 0 0  \n",
        "# 0 0 0 0 0 0 0  \n",
        "# 0 0 0 0 0 0 0  \n",
        "\n",
        "# 0 0 0 0 0 0 0  \n",
        "# 0 0 0 0 0 0 0  \n",
        "# 0 0 0 0 0 0 0 \n",
        "# 0 0 1 0 0 0 0 \n",
        "# 0 0 0 1 1 0 0  \n",
        "# 0 0 0 0 0 0 0  \n",
        "# 0 0 0 0 0 0 0  \n",
        "\n",
        "lock = [[1,1,1],[1,1,0],[1,0,1]]\n",
        "# 1 1 1\n",
        "# 1 1 0\n",
        "# 1 0 1\n",
        "M = len(key)\n",
        "N = len(lock)\n",
        "\n"
      ],
      "execution_count": 5,
      "outputs": []
    },
    {
      "cell_type": "code",
      "metadata": {
        "id": "Xb-lxcAkCiA-"
      },
      "source": [
        "def rotated(array_2d):\n",
        "    list_of_tuples = zip(*array_2d[::-1])\n",
        "    return [list(elem) for elem in list_of_tuples]"
      ],
      "execution_count": 8,
      "outputs": []
    },
    {
      "cell_type": "code",
      "metadata": {
        "colab": {
          "base_uri": "https://localhost:8080/"
        },
        "id": "VM3hY2XlAMuW",
        "outputId": "fe187371-a079-4296-f2ad-b14435605b3a"
      },
      "source": [
        "for step in range(4):\n",
        "  key = rotated(key)\n",
        "  post_key = [[0]*(3*M-2) for _ in range(3*M-2)]\n",
        "  for row in range(M):\n",
        "    for column in range(M):\n",
        "      post_key[M-1+row][M-1+column] = key[row][column]\n",
        "  print(post_key)"
      ],
      "execution_count": 10,
      "outputs": [
        {
          "output_type": "stream",
          "text": [
            "[[0, 0, 0, 0, 0, 0, 0], [0, 0, 0, 0, 0, 0, 0], [0, 0, 0, 1, 0, 0, 0], [0, 0, 1, 0, 0, 0, 0], [0, 0, 1, 0, 0, 0, 0], [0, 0, 0, 0, 0, 0, 0], [0, 0, 0, 0, 0, 0, 0]]\n",
            "[[0, 0, 0, 0, 0, 0, 0], [0, 0, 0, 0, 0, 0, 0], [0, 0, 1, 1, 0, 0, 0], [0, 0, 0, 0, 1, 0, 0], [0, 0, 0, 0, 0, 0, 0], [0, 0, 0, 0, 0, 0, 0], [0, 0, 0, 0, 0, 0, 0]]\n",
            "[[0, 0, 0, 0, 0, 0, 0], [0, 0, 0, 0, 0, 0, 0], [0, 0, 0, 0, 1, 0, 0], [0, 0, 0, 0, 1, 0, 0], [0, 0, 0, 1, 0, 0, 0], [0, 0, 0, 0, 0, 0, 0], [0, 0, 0, 0, 0, 0, 0]]\n",
            "[[0, 0, 0, 0, 0, 0, 0], [0, 0, 0, 0, 0, 0, 0], [0, 0, 0, 0, 0, 0, 0], [0, 0, 1, 0, 0, 0, 0], [0, 0, 0, 1, 1, 0, 0], [0, 0, 0, 0, 0, 0, 0], [0, 0, 0, 0, 0, 0, 0]]\n"
          ],
          "name": "stdout"
        }
      ]
    },
    {
      "cell_type": "code",
      "metadata": {
        "id": "QceBShBH5EbR"
      },
      "source": [
        "while true:\n",
        "  M = len(key)\n",
        "  N = len(lock)\n",
        "\n",
        "\n",
        "  # MXM의 행열을 3M-2x3M-2로 만들기\n",
        "  post_key = [[0]*(3*M-2) for _ in range(3*M-2)]\n",
        "  for row in range(len(M)):\n",
        "    for column in range(len(M)):\n",
        "      post_key[len(M)+row][len(N)+column] = key[row][column]\n",
        "\n",
        "  # 만든 행렬중에서 NxN만큼 비추기\n",
        "\n",
        "  # 비춘 곳에서 0이 아닌 값이 있는지 확인\n",
        "\n",
        "  # 1이 있다면 현재 lock이랑 더해서 NxN이 다 1이 되는지 확인하기 \n",
        "\n",
        "\n",
        "  post_lock = pass\n",
        "\n",
        "\n",
        "  if sum(after_lock) == 9:\n",
        "    return true"
      ],
      "execution_count": null,
      "outputs": []
    }
  ]
}