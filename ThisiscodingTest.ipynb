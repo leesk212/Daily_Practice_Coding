{
  "nbformat": 4,
  "nbformat_minor": 0,
  "metadata": {
    "colab": {
      "name": "ThisiscodingTest.ipynb",
      "provenance": [],
      "authorship_tag": "ABX9TyMaVbnNqJ7UW7Fkx5j7bYVd",
      "include_colab_link": true
    },
    "kernelspec": {
      "name": "python3",
      "display_name": "Python 3"
    },
    "language_info": {
      "name": "python"
    }
  },
  "cells": [
    {
      "cell_type": "markdown",
      "metadata": {
        "id": "view-in-github",
        "colab_type": "text"
      },
      "source": [
        "<a href=\"https://colab.research.google.com/github/leesk212/Daily_Practice_Coding/blob/master/ThisiscodingTest.ipynb\" target=\"_parent\"><img src=\"https://colab.research.google.com/assets/colab-badge.svg\" alt=\"Open In Colab\"/></a>"
      ]
    },
    {
      "cell_type": "markdown",
      "metadata": {
        "id": "xFVT8MuuFKMb"
      },
      "source": [
        "#3"
      ]
    },
    {
      "cell_type": "code",
      "metadata": {
        "id": "R9tEqlw1FOy5"
      },
      "source": [
        "def flip(start,end,string):\n",
        "  string[start:end] \n",
        "\n",
        "\n",
        "string = input()"
      ],
      "execution_count": null,
      "outputs": []
    },
    {
      "cell_type": "markdown",
      "metadata": {
        "id": "MluJ9MVZ-KGX"
      },
      "source": [
        "#4 "
      ]
    },
    {
      "cell_type": "code",
      "metadata": {
        "colab": {
          "base_uri": "https://localhost:8080/"
        },
        "id": "oK-e5pwq7paN",
        "outputId": "d180e9ff-60ea-42a9-b821-54f007d9b0f4"
      },
      "source": [
        "N = int(input())\n",
        "coins = list(map(int,input().split(' ')))\n",
        "print(N,coins)"
      ],
      "execution_count": null,
      "outputs": [
        {
          "output_type": "stream",
          "text": [
            "5\n",
            "3 2 1 1 9\n",
            "5 [3, 2, 1, 1, 9]\n"
          ],
          "name": "stdout"
        }
      ]
    },
    {
      "cell_type": "code",
      "metadata": {
        "colab": {
          "base_uri": "https://localhost:8080/"
        },
        "id": "DuoIbcBZ7WJl",
        "outputId": "78f3f211-8df3-43b4-b3ae-4c0840a05cd2"
      },
      "source": [
        "coins.sort()\n",
        "print(coins)"
      ],
      "execution_count": null,
      "outputs": [
        {
          "output_type": "stream",
          "text": [
            "[1, 1, 2, 3, 9]\n"
          ],
          "name": "stdout"
        }
      ]
    },
    {
      "cell_type": "code",
      "metadata": {
        "colab": {
          "base_uri": "https://localhost:8080/"
        },
        "id": "3RoULKRW8y_k",
        "outputId": "a27117c3-1d22-4b0f-e1aa-6f278350d26e"
      },
      "source": [
        "answer = 1\n",
        "for x in coins:\n",
        "  if answer < x:\n",
        "    break\n",
        "  answer += x\n",
        "\n",
        "print(answer)"
      ],
      "execution_count": null,
      "outputs": [
        {
          "output_type": "stream",
          "text": [
            "8\n"
          ],
          "name": "stdout"
        }
      ]
    },
    {
      "cell_type": "markdown",
      "metadata": {
        "id": "bbEhkhPB-LmA"
      },
      "source": [
        "#5"
      ]
    },
    {
      "cell_type": "code",
      "metadata": {
        "colab": {
          "base_uri": "https://localhost:8080/"
        },
        "id": "w9EIxCBp-Jmu",
        "outputId": "01fd6928-0a35-4208-88c0-74814542b97d"
      },
      "source": [
        "N,M = map(int,input().split(' '))\n",
        "bolls = list(map(int,input().split(' ')))"
      ],
      "execution_count": null,
      "outputs": [
        {
          "output_type": "stream",
          "text": [
            "8 5\n",
            "1 5 4 3 2 4 5 2\n"
          ],
          "name": "stdout"
        }
      ]
    },
    {
      "cell_type": "code",
      "metadata": {
        "colab": {
          "base_uri": "https://localhost:8080/"
        },
        "id": "o4Yf0G1G-j4M",
        "outputId": "9250f099-4dd8-4b52-db18-817f3487a038"
      },
      "source": [
        "from itertools import combinations\n",
        "list_bolls = list(combinations(bolls,2))\n",
        "print(len(list_bolls))\n",
        "answer = 0\n",
        "for each_weight in list_bolls:\n",
        "  A,B = each_weight\n",
        "  if A != B:\n",
        "    answer += 1\n",
        "\n",
        "print(answer)\n"
      ],
      "execution_count": null,
      "outputs": [
        {
          "output_type": "stream",
          "text": [
            "28\n",
            "25\n"
          ],
          "name": "stdout"
        }
      ]
    },
    {
      "cell_type": "markdown",
      "metadata": {
        "id": "yfPdiytrJklg"
      },
      "source": [
        "#7"
      ]
    },
    {
      "cell_type": "code",
      "metadata": {
        "id": "wXNl_HdEKBi6",
        "colab": {
          "base_uri": "https://localhost:8080/",
          "height": 53
        },
        "outputId": "38cfb64f-06d5-42f7-a808-6aa2d47839ac"
      },
      "source": [
        "raw_string = input()\n",
        "raw_string"
      ],
      "execution_count": null,
      "outputs": [
        {
          "output_type": "stream",
          "text": [
            "123402\n"
          ],
          "name": "stdout"
        },
        {
          "output_type": "execute_result",
          "data": {
            "application/vnd.google.colaboratory.intrinsic+json": {
              "type": "string"
            },
            "text/plain": [
              "'123402'"
            ]
          },
          "metadata": {
            "tags": []
          },
          "execution_count": 1
        }
      ]
    },
    {
      "cell_type": "code",
      "metadata": {
        "id": "0a531e1BKnuL",
        "colab": {
          "base_uri": "https://localhost:8080/"
        },
        "outputId": "ca34b6bc-204d-4cd3-ae52-83be8b4212d1"
      },
      "source": [
        "list_raw_string = list(map(int,raw_string))\n",
        "print(list_raw_string)\n",
        "string_len = len(list_raw_string)\n",
        "part1 = list_raw_string[0:string_len//2]\n",
        "part2 = list_raw_string[string_len//2:string_len]\n",
        "print(part1,part2)\n",
        "if sum(part1) == sum(part2):\n",
        "  print('LUCKY')\n",
        "else:\n",
        "  print('READY')"
      ],
      "execution_count": null,
      "outputs": [
        {
          "output_type": "stream",
          "text": [
            "[1, 2, 3, 4, 0, 2]\n",
            "[1, 2, 3] [4, 0, 2]\n",
            "LUCKY\n"
          ],
          "name": "stdout"
        }
      ]
    },
    {
      "cell_type": "markdown",
      "metadata": {
        "id": "S6qBHpnuKnKL"
      },
      "source": [
        "#8"
      ]
    },
    {
      "cell_type": "code",
      "metadata": {
        "id": "XspGgpV1Mf-F",
        "colab": {
          "base_uri": "https://localhost:8080/"
        },
        "outputId": "1bef8c3d-35a7-4a25-9db7-7c804131e4b8"
      },
      "source": [
        "string = input()\n",
        "list_string = list(map(str,string))\n",
        "# list_string\n",
        "str_ = []\n",
        "_num = []\n",
        "\n",
        "for each in list_string:\n",
        "  if each.isdigit():\n",
        "    _num.append(int(each))\n",
        "  else:\n",
        "    str_.append(each)\n",
        "\n",
        "print(''.join(sorted(str_))+str(sum(_num)))\n",
        "\n"
      ],
      "execution_count": null,
      "outputs": [
        {
          "output_type": "stream",
          "text": [
            "K1KA5CB7\n",
            "ABCKK13\n"
          ],
          "name": "stdout"
        }
      ]
    },
    {
      "cell_type": "markdown",
      "metadata": {
        "id": "4mzb0SHKPz9l"
      },
      "source": [
        ""
      ]
    }
  ]
}