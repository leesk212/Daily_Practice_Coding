{
  "nbformat": 4,
  "nbformat_minor": 0,
  "metadata": {
    "colab": {
      "name": "solved.ac_class_1_essential.ipynb",
      "provenance": [],
      "collapsed_sections": [],
      "authorship_tag": "ABX9TyO1UGLowVh8ay0rsCDJxhS6",
      "include_colab_link": true
    },
    "kernelspec": {
      "name": "python3",
      "display_name": "Python 3"
    },
    "language_info": {
      "name": "python"
    }
  },
  "cells": [
    {
      "cell_type": "markdown",
      "metadata": {
        "id": "view-in-github",
        "colab_type": "text"
      },
      "source": [
        "<a href=\"https://colab.research.google.com/github/leesk212/Daily_Practice_Coding/blob/master/solved_ac_class_1_essential.ipynb\" target=\"_parent\"><img src=\"https://colab.research.google.com/assets/colab-badge.svg\" alt=\"Open In Colab\"/></a>"
      ]
    },
    {
      "cell_type": "code",
      "metadata": {
        "colab": {
          "base_uri": "https://localhost:8080/"
        },
        "id": "F3O0O1g8MYZo",
        "outputId": "ffb95820-5a95-4ae4-d6b3-0bc59a7a495b"
      },
      "source": [
        "a,b = map(str,input().split(' '))\n",
        "print(int(a)+int(b))"
      ],
      "execution_count": 1,
      "outputs": [
        {
          "output_type": "stream",
          "text": [
            "3 4\n",
            "7\n"
          ],
          "name": "stdout"
        }
      ]
    },
    {
      "cell_type": "code",
      "metadata": {
        "id": "EwBnG_qaT8zM"
      },
      "source": [
        "a,b = map(str,input().split(' '))\n",
        "print(int(a)-int(b))"
      ],
      "execution_count": null,
      "outputs": []
    },
    {
      "cell_type": "code",
      "metadata": {
        "colab": {
          "base_uri": "https://localhost:8080/"
        },
        "id": "9znKSpWIUPHz",
        "outputId": "d226984e-0426-461b-d30b-30b756d9deef"
      },
      "source": [
        "a,b = map(str,input().split(' '))\n",
        "print(int(a)/int(b))"
      ],
      "execution_count": 3,
      "outputs": [
        {
          "output_type": "stream",
          "text": [
            "1 3\n",
            "0.3333333333333333\n"
          ],
          "name": "stdout"
        }
      ]
    },
    {
      "cell_type": "code",
      "metadata": {
        "colab": {
          "base_uri": "https://localhost:8080/"
        },
        "id": "ifh5xXA4Uh7j",
        "outputId": "285c47b5-3b7e-4118-c724-459e2b24e8a3"
      },
      "source": [
        "a = list(map(str, input().split(' ')))\n",
        "cnt = 0 \n",
        "for each in a:\n",
        "  if len(each) == 0:\n",
        "    cnt=cnt+1\n",
        "\n",
        "print(str(len(a)-cnt))"
      ],
      "execution_count": 12,
      "outputs": [
        {
          "output_type": "stream",
          "text": [
            " Mazatneunde Wae Teullyeoyo\n",
            "3\n"
          ],
          "name": "stdout"
        }
      ]
    },
    {
      "cell_type": "code",
      "metadata": {
        "colab": {
          "base_uri": "https://localhost:8080/"
        },
        "id": "o5f74kDKWw11",
        "outputId": "2957e247-bfe6-4f15-bf8d-0196086067eb"
      },
      "source": [
        "a,b = map(str,input().split(' '))\n",
        "a,b = int(a),int(b)\n",
        "if a > b:\n",
        "  print('>')\n",
        "elif a < b:\n",
        "  print('<')\n",
        "elif a == b:\n",
        "  print('==')\n",
        "\n"
      ],
      "execution_count": 14,
      "outputs": [
        {
          "output_type": "stream",
          "text": [
            "2 3\n",
            "<\n"
          ],
          "name": "stdout"
        }
      ]
    },
    {
      "cell_type": "code",
      "metadata": {
        "colab": {
          "base_uri": "https://localhost:8080/"
        },
        "id": "uen30zB-ZlF5",
        "outputId": "b18a4d3f-4a42-4a69-9949-b477c43ea4d2"
      },
      "source": [
        "a = int(input())\n",
        "for row in range(a):\n",
        "  for colum in range(row+1):\n",
        "    print('*',end='')\n",
        "  print('')"
      ],
      "execution_count": 16,
      "outputs": [
        {
          "output_type": "stream",
          "text": [
            "5\n",
            "*\n",
            "**\n",
            "***\n",
            "****\n",
            "*****\n"
          ],
          "name": "stdout"
        }
      ]
    },
    {
      "cell_type": "code",
      "metadata": {
        "colab": {
          "base_uri": "https://localhost:8080/"
        },
        "id": "sCG3ibqmaV9O",
        "outputId": "5d4f8b96-9689-419e-9056-71140481b75d"
      },
      "source": [
        "print('Hello World!')"
      ],
      "execution_count": 17,
      "outputs": [
        {
          "output_type": "stream",
          "text": [
            "Hello World!\n"
          ],
          "name": "stdout"
        }
      ]
    },
    {
      "cell_type": "code",
      "metadata": {
        "colab": {
          "base_uri": "https://localhost:8080/"
        },
        "id": "RloVLhocavbJ",
        "outputId": "0ec129da-3479-472d-f9d0-fd9663e4c441"
      },
      "source": [
        "a = []\n",
        "for _ in range(9):\n",
        "  each = int(input())\n",
        "  a.append(each)\n",
        "print(max(a))\n",
        "print(str(int(a.index(max(a))+1)))"
      ],
      "execution_count": 19,
      "outputs": [
        {
          "output_type": "stream",
          "text": [
            "3\n",
            "29\n",
            "38\n",
            "12\n",
            "57\n",
            "74\n",
            "40\n",
            "85\n",
            "61\n",
            "85\n",
            "7\n"
          ],
          "name": "stdout"
        }
      ]
    },
    {
      "cell_type": "code",
      "metadata": {
        "colab": {
          "base_uri": "https://localhost:8080/"
        },
        "id": "KFjAjPh9b_Pz",
        "outputId": "e53939e2-612f-49c8-9746-185a1df80450"
      },
      "source": [
        "test_cnt = int(input())\n",
        "for _ in range(test_cnt):\n",
        "  R,S = map(str,input().split(' '))\n",
        "  R = int(R)\n",
        "  S = list(S)\n",
        "  for each_s in S:\n",
        "    for iterate_cnt in range(R):\n",
        "      print(each_s,end='')\n",
        "  print('')"
      ],
      "execution_count": 21,
      "outputs": [
        {
          "output_type": "stream",
          "text": [
            "2\n",
            "3 ABC\n",
            "AAABBBCCC\n",
            "5 /HTP\n",
            "/////HHHHHTTTTTPPPPP\n"
          ],
          "name": "stdout"
        }
      ]
    },
    {
      "cell_type": "code",
      "metadata": {
        "colab": {
          "base_uri": "https://localhost:8080/"
        },
        "id": "RyJe6kFHdJ5d",
        "outputId": "82a6530a-e4fe-40d5-8929-d4f0fb639448"
      },
      "source": [
        "dan = int(input())\n",
        "for _ in range(9):\n",
        "  print(str(dan)+' * '+str(_+1)+' = '+str(dan*(_+1)))"
      ],
      "execution_count": 22,
      "outputs": [
        {
          "output_type": "stream",
          "text": [
            "2\n",
            "2 * 0 = 0\n",
            "2 * 1 = 2\n",
            "2 * 2 = 4\n",
            "2 * 3 = 6\n",
            "2 * 4 = 8\n",
            "2 * 5 = 10\n",
            "2 * 6 = 12\n",
            "2 * 7 = 14\n",
            "2 * 8 = 16\n"
          ],
          "name": "stdout"
        }
      ]
    },
    {
      "cell_type": "code",
      "metadata": {
        "colab": {
          "base_uri": "https://localhost:8080/"
        },
        "id": "s9E0tC6veU1k",
        "outputId": "3fce5696-2e13-4520-e53e-5e398879de03"
      },
      "source": [
        "a,b = map(str,input().split(' '))\n",
        "a,b = int(a),int(b)\n",
        "print(a+b)\n",
        "print(a-b)\n",
        "print(a*b)\n",
        "print(a//b)\n",
        "print(a%b)"
      ],
      "execution_count": 27,
      "outputs": [
        {
          "output_type": "stream",
          "text": [
            "7 3\n",
            "10\n",
            "4\n",
            "21\n",
            "2\n",
            "1\n"
          ],
          "name": "stdout"
        }
      ]
    },
    {
      "cell_type": "code",
      "metadata": {
        "colab": {
          "base_uri": "https://localhost:8080/"
        },
        "id": "tJvOhgYwfGuc",
        "outputId": "b7723014-9880-46c3-919a-cbf0de24697e"
      },
      "source": [
        "print(ord(str(input())))"
      ],
      "execution_count": 37,
      "outputs": [
        {
          "output_type": "stream",
          "text": [
            "A\n",
            "65\n"
          ],
          "name": "stdout"
        }
      ]
    },
    {
      "cell_type": "markdown",
      "metadata": {
        "id": "1P_S_AkThi_X"
      },
      "source": [
        "* ord: python의 ASCII로 출력해주는 api"
      ]
    },
    {
      "cell_type": "code",
      "metadata": {
        "colab": {
          "base_uri": "https://localhost:8080/"
        },
        "id": "OhXWHkJqe2dn",
        "outputId": "dc7d202e-7ca7-42f2-cfe6-5478e3089341"
      },
      "source": [
        "N = int(input())\n",
        "S = list(map(int,input().split(' ')))\n",
        "\n",
        "print(min(S),max(S))"
      ],
      "execution_count": 40,
      "outputs": [
        {
          "output_type": "stream",
          "text": [
            "5\n",
            "20 10 35 30 7\n",
            "[20, 10, 35, 30, 7]\n",
            "7 35\n"
          ],
          "name": "stdout"
        }
      ]
    },
    {
      "cell_type": "markdown",
      "metadata": {
        "id": "o-n0Zd4viRna"
      },
      "source": [
        "* maping에 int로 맵핑하면 나눴던 각각의 값들이 int로 변경된다."
      ]
    },
    {
      "cell_type": "code",
      "metadata": {
        "id": "4Oj1hgVaimIw"
      },
      "source": [
        "N = int(input())\n",
        "for _ in range(N):\n",
        "  a,b = map(int,input().split(' '))\n",
        "  print(a+b)"
      ],
      "execution_count": null,
      "outputs": []
    },
    {
      "cell_type": "code",
      "metadata": {
        "colab": {
          "base_uri": "https://localhost:8080/"
        },
        "id": "69V5wNWyjGK7",
        "outputId": "315b4c33-3c87-464b-9797-dc03694facf2"
      },
      "source": [
        "N = 1000\n",
        "for _ in range(N):\n",
        "  try:\n",
        "    a,b = map(int,input().split(' '))\n",
        "    print(a+b)\n",
        "  except: \n",
        "    break\n"
      ],
      "execution_count": 42,
      "outputs": [
        {
          "output_type": "stream",
          "text": [
            "4\n"
          ],
          "name": "stdout"
        }
      ]
    },
    {
      "cell_type": "code",
      "metadata": {
        "id": "6U1llLF9jnTe"
      },
      "source": [
        "N = 1000\n",
        "for _ in range(N):\n",
        "  try:\n",
        "    a,b = map(int,input().split(' '))\n",
        "    if a+b == 0:\n",
        "      break\n",
        "    else:\n",
        "      print(a+b)\n",
        "  except: \n",
        "    break\n"
      ],
      "execution_count": null,
      "outputs": []
    },
    {
      "cell_type": "code",
      "metadata": {
        "colab": {
          "base_uri": "https://localhost:8080/"
        },
        "id": "mEHLs6nDkT-Y",
        "outputId": "e126fca7-23ad-4842-df90-64827c52806b"
      },
      "source": [
        "S = list(map(int,input().split(' ')))\n",
        "if S == [1,2,3,4,5,6,7,8]:\n",
        "  print('ascending')\n",
        "elif S == [8,7,6,5,4,3,2,1]:\n",
        "  print('descending')\n",
        "else:\n",
        "  print('mixed')"
      ],
      "execution_count": 45,
      "outputs": [
        {
          "output_type": "stream",
          "text": [
            "1 2 3 4 5 6 7 8\n",
            "[1, 2, 3, 4, 5, 6, 7, 8]\n",
            "ascending\n"
          ],
          "name": "stdout"
        }
      ]
    },
    {
      "cell_type": "code",
      "metadata": {
        "colab": {
          "base_uri": "https://localhost:8080/"
        },
        "id": "4ZpJWyHclf2E",
        "outputId": "1501fb7c-a0dd-41a5-9c6d-a9efa39ccca1"
      },
      "source": [
        "def make_(value):\n",
        "  return_ = 0 \n",
        "  for i in range(value):\n",
        "    return_ = return_ + (i+1)\n",
        "  return return_\n",
        "\n",
        "N = int(input())\n",
        "return_list = []\n",
        "for _ in range(N):\n",
        "  string = list(map(str,input().split('X')))\n",
        "  answer = 0 \n",
        "  for each in string:\n",
        "    if not len(each) == 0:\n",
        "      answer = answer + make_(len(each))\n",
        "  print(answer)"
      ],
      "execution_count": 50,
      "outputs": [
        {
          "output_type": "stream",
          "text": [
            "5\n",
            "OOXXOXXOOO\n",
            "10\n",
            "\n",
            "OOXXOOXXOO\n",
            "9\n",
            "\n",
            "OXOXOXOXOXOX\n",
            "6\n",
            "\n",
            "OOOOOOOOOO\n",
            "55\n",
            "\n",
            "OOOOXOOOOXOOOOX\n",
            "30\n",
            "\n"
          ],
          "name": "stdout"
        }
      ]
    },
    {
      "cell_type": "code",
      "metadata": {
        "colab": {
          "base_uri": "https://localhost:8080/"
        },
        "id": "tGWRpNZsliy5",
        "outputId": "e72de37f-d8fa-45a2-fd11-0e4905bc3b87"
      },
      "source": [
        "N = int(input())\n",
        "s = str(input())\n",
        "answer_ = []\n",
        "for each in s:\n",
        "  answer_.append(int(each))\n",
        "print(sum(answer_))"
      ],
      "execution_count": 55,
      "outputs": [
        {
          "output_type": "stream",
          "text": [
            "11\n",
            "10987654321\n",
            "[1, 0, 9, 8, 7, 6, 5, 4, 3, 2, 1]\n",
            "46\n"
          ],
          "name": "stdout"
        }
      ]
    },
    {
      "cell_type": "code",
      "metadata": {
        "id": "c0NiuHZwr-qn"
      },
      "source": [
        ""
      ],
      "execution_count": null,
      "outputs": []
    }
  ]
}