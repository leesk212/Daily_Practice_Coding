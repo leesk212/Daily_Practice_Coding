{
  "nbformat": 4,
  "nbformat_minor": 0,
  "metadata": {
    "colab": {
      "name": "solved.ac_class_2_essential.ipynb",
      "provenance": [],
      "collapsed_sections": [],
      "authorship_tag": "ABX9TyNdz4ffnJxPEs6IReRog4eI",
      "include_colab_link": true
    },
    "kernelspec": {
      "name": "python3",
      "display_name": "Python 3"
    },
    "language_info": {
      "name": "python"
    }
  },
  "cells": [
    {
      "cell_type": "markdown",
      "metadata": {
        "id": "view-in-github",
        "colab_type": "text"
      },
      "source": [
        "<a href=\"https://colab.research.google.com/github/leesk212/Daily_Practice_Coding/blob/master/solved_ac_class_2_essential.ipynb\" target=\"_parent\"><img src=\"https://colab.research.google.com/assets/colab-badge.svg\" alt=\"Open In Colab\"/></a>"
      ]
    },
    {
      "cell_type": "code",
      "metadata": {
        "id": "-eNvGYhHtDVY"
      },
      "source": [
        "while True: \n",
        "  s = list(map(int,input().split(' ')))\n",
        "  if sum(s)==0:\n",
        "    break\n",
        "  s = sorted(s,reverse=True)\n",
        "  if s[0]**2 == s[1]**2 + s[2]**2:\n",
        "    print('right')\n",
        "  else:\n",
        "    print('wrong')"
      ],
      "execution_count": null,
      "outputs": []
    },
    {
      "cell_type": "markdown",
      "metadata": {
        "id": "uMeuWBAs-8I0"
      },
      "source": [
        "# ACM 호텔\n",
        "* link: https://www.acmicpc.net/submit/10250/31938169\n",
        "\n",
        "* 30분 초과, ERROR 판단 부족\n",
        "* 이유: 예외처리의 차이점 \n",
        " * 놓쳤던 부분이 무엇일까.. 음.. \n",
        " * 나머지가 0일때를 새악을 안해주었다\n",
        " > 생각이 들었다면 각 층수에 맞는 호수라는 것을 파악할 수 있었을 것이다.\n",
        " * 조금 더 많은 테스트 케이스를 생각하면서 문제를 풀도록 하자"
      ]
    },
    {
      "cell_type": "code",
      "metadata": {
        "colab": {
          "base_uri": "https://localhost:8080/"
        },
        "id": "ouBSL85MyUBO",
        "outputId": "a8626ca8-faa2-4c84-82ad-e75b7e3cc8b5"
      },
      "source": [
        "#수정전\n",
        "N = int(input())\n",
        "for _ in range(N):\n",
        "  H,W,N = map(int,input().split(' '))\n",
        "  ho = N // H + 1\n",
        "  cheng = N % H \n",
        "  if cheng == 0:\n",
        "    cheng = 1\n",
        "  print(ho,cheng)\n",
        "  print(str(cheng*100+ho))"
      ],
      "execution_count": 14,
      "outputs": [
        {
          "output_type": "stream",
          "text": [
            "2\n",
            "6 12 10\n",
            "2 4\n",
            "402\n",
            "30 50 72\n",
            "3 12\n",
            "1203\n"
          ],
          "name": "stdout"
        }
      ]
    },
    {
      "cell_type": "code",
      "metadata": {
        "id": "cMe_4nTc_FpX"
      },
      "source": [
        "#수정후\n",
        "for _ in range(int(input())):\n",
        "    H,W,N = map(int,input().split())\n",
        "    cheng = N%H\n",
        "    ho = N //H +1\n",
        "    if cheng == 0:\n",
        "        cheng = H\n",
        "        ho = ho -1\n",
        "    print(a*100+b)"
      ],
      "execution_count": null,
      "outputs": []
    },
    {
      "cell_type": "markdown",
      "metadata": {
        "id": "JKQn7Rd7PpC1"
      },
      "source": [
        "* 최소한 조건보다 더 큰 min을 설정하자"
      ]
    },
    {
      "cell_type": "code",
      "metadata": {
        "colab": {
          "base_uri": "https://localhost:8080/"
        },
        "id": "0E-KBhJiK8Ha",
        "outputId": "8072d79e-8743-40c9-ded4-0bdbe194a416"
      },
      "source": [
        "from itertools import permutations as p\n",
        "\n",
        "case, answer = map(int,input().split(' '))\n",
        "s = list(map(int,input().split(' ')))\n",
        "s_p = p(s,3)\n",
        "min=1000000\n",
        "return_ = []\n",
        "for each_permutation_result in s_p:\n",
        "  if sum(each_permutation_result) <= answer:\n",
        "    if abs(sum(each_permutation_result)-answer) < min:\n",
        "      min = abs(sum(each_permutation_result)-answer)\n",
        "      return_ = each_permutation_result\n",
        "\n",
        "print(sum(return_))"
      ],
      "execution_count": 22,
      "outputs": [
        {
          "output_type": "stream",
          "text": [
            "5 21\n",
            "5 6 7 8 9\n",
            "21\n"
          ],
          "name": "stdout"
        }
      ]
    },
    {
      "cell_type": "markdown",
      "metadata": {
        "id": "u_ET3WYynW_K"
      },
      "source": [
        "# python reverse 쓰는법!!!\n",
        "> list(reversed(list__want))"
      ]
    },
    {
      "cell_type": "code",
      "metadata": {
        "colab": {
          "base_uri": "https://localhost:8080/"
        },
        "id": "WJohLOSdOZCx",
        "outputId": "832e40c6-096a-4622-a7b9-0baad21d0cdd"
      },
      "source": [
        "while True:\n",
        "  s = list(input())\n",
        "  if s[0] == '0':\n",
        "    break\n",
        "  len_s = len(s)\n",
        "  if len_s % 2 == 00: # 짝수\n",
        "    front = s[len_s//2:]\n",
        "    back = list(reversed(s[:len_s//2]))\n",
        "    if front == back:\n",
        "      print('yes')\n",
        "    else:\n",
        "      print('no')\n",
        "  else: #홀수 5//2 --> 2 [0,1] [3,4] 7 //2 3 [0,1,2] [4,5,6]\n",
        "    if s[:len_s//2] == list(reversed(s[(len_s//2)+1:])):\n",
        "      print('yes')\n",
        "    else:\n",
        "      print('no')\n"
      ],
      "execution_count": 41,
      "outputs": [
        {
          "output_type": "stream",
          "text": [
            "1221\n",
            "yes\n",
            "12321\n",
            "yes\n",
            "0\n"
          ],
          "name": "stdout"
        }
      ]
    },
    {
      "cell_type": "markdown",
      "metadata": {
        "id": "SGs1IqEAn2w8"
      },
      "source": [
        "# 이항계수란?\n",
        "> 조합과 같다.\n",
        "\n",
        "> return 을 할때 combination의 객체일 경우 list로 감싸줘야만 한다."
      ]
    },
    {
      "cell_type": "code",
      "metadata": {
        "colab": {
          "base_uri": "https://localhost:8080/"
        },
        "id": "2UUqYosovLkp",
        "outputId": "1a6832ba-f69d-446f-fa1c-aff3bd58cca8"
      },
      "source": [
        "from itertools import combinations as c\n",
        "N,k = map(int,input().split())\n",
        "s = []\n",
        "for i in range(N):\n",
        "  s.append(i)\n",
        "\n",
        "s_c = list(c(s,k))\n",
        "print(len(s_c))\n"
      ],
      "execution_count": 44,
      "outputs": [
        {
          "output_type": "stream",
          "text": [
            "5 2\n",
            "10\n"
          ],
          "name": "stdout"
        }
      ]
    }
  ]
}