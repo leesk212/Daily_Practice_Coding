{
  "nbformat": 4,
  "nbformat_minor": 0,
  "metadata": {
    "colab": {
      "name": "곱하기 혹은 더하기.ipynb",
      "provenance": [],
      "authorship_tag": "ABX9TyNxChmHy0+YIEYFoN5XgS85",
      "include_colab_link": true
    },
    "kernelspec": {
      "name": "python3",
      "display_name": "Python 3"
    },
    "language_info": {
      "name": "python"
    }
  },
  "cells": [
    {
      "cell_type": "markdown",
      "metadata": {
        "id": "view-in-github",
        "colab_type": "text"
      },
      "source": [
        "<a href=\"https://colab.research.google.com/github/leesk212/Daily_Practice_Coding/blob/master/%EA%B3%B1%ED%95%98%EA%B8%B0_%ED%98%B9%EC%9D%80_%EB%8D%94%ED%95%98%EA%B8%B0.ipynb\" target=\"_parent\"><img src=\"https://colab.research.google.com/assets/colab-badge.svg\" alt=\"Open In Colab\"/></a>"
      ]
    },
    {
      "cell_type": "code",
      "metadata": {
        "colab": {
          "base_uri": "https://localhost:8080/"
        },
        "id": "9vzrbAeNLiaC",
        "outputId": "c4e262ac-49cb-4ede-c735-9d42e095d6c3"
      },
      "source": [
        "string = input()"
      ],
      "execution_count": 5,
      "outputs": [
        {
          "output_type": "stream",
          "text": [
            "02984\n"
          ],
          "name": "stdout"
        }
      ]
    },
    {
      "cell_type": "code",
      "metadata": {
        "colab": {
          "base_uri": "https://localhost:8080/"
        },
        "id": "XupVPRPJQOCL",
        "outputId": "7cb1fdea-9f9e-4f1c-c16f-a30947db6ceb"
      },
      "source": [
        "len(string)"
      ],
      "execution_count": 6,
      "outputs": [
        {
          "output_type": "execute_result",
          "data": {
            "text/plain": [
              "5"
            ]
          },
          "metadata": {
            "tags": []
          },
          "execution_count": 6
        }
      ]
    },
    {
      "cell_type": "code",
      "metadata": {
        "colab": {
          "base_uri": "https://localhost:8080/"
        },
        "id": "YpfjlsY7PY3L",
        "outputId": "d1d952a6-0048-4e66-c6e7-daf0504c62a0"
      },
      "source": [
        "number = []\n",
        "for i in range(len(string)):  \n",
        "  number.append(int(string[i]))\n",
        "\n",
        "len(number)"
      ],
      "execution_count": 18,
      "outputs": [
        {
          "output_type": "execute_result",
          "data": {
            "text/plain": [
              "5"
            ]
          },
          "metadata": {
            "tags": []
          },
          "execution_count": 18
        }
      ]
    },
    {
      "cell_type": "code",
      "metadata": {
        "colab": {
          "base_uri": "https://localhost:8080/"
        },
        "id": "JGdBGPsRQeZx",
        "outputId": "f88f46d9-5de8-4db0-8379-af0e47d18db4"
      },
      "source": [
        "for i, op_2 in enumerate(number):\n",
        "  if i == 0:\n",
        "    op_1 = op_2\n",
        "  else:\n",
        "    if op_2==0 or op_1 == 0:\n",
        "      op_1 = op_1 + op_2\n",
        "    else:\n",
        "      op_1 = op_1 * op_2\n",
        "  print(\"op1:\"+str(op_1))\n",
        "  print(\"op2:\"+str(op_2))"
      ],
      "execution_count": 23,
      "outputs": [
        {
          "output_type": "stream",
          "text": [
            "op1:0\n",
            "op2:0\n",
            "op1:2\n",
            "op2:2\n",
            "op1:18\n",
            "op2:9\n",
            "op1:144\n",
            "op2:8\n",
            "op1:576\n",
            "op2:4\n"
          ],
          "name": "stdout"
        }
      ]
    }
  ]
}