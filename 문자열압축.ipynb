{
  "nbformat": 4,
  "nbformat_minor": 0,
  "metadata": {
    "colab": {
      "name": "Untitled10.ipynb",
      "provenance": [],
      "collapsed_sections": [],
      "authorship_tag": "ABX9TyPzXOTZKPCQn8oU8YVLJYVF",
      "include_colab_link": true
    },
    "kernelspec": {
      "name": "python3",
      "display_name": "Python 3"
    },
    "language_info": {
      "name": "python"
    }
  },
  "cells": [
    {
      "cell_type": "markdown",
      "metadata": {
        "id": "view-in-github",
        "colab_type": "text"
      },
      "source": [
        "<a href=\"https://colab.research.google.com/github/leesk212/Daily_Practice_Coding/blob/master/%EB%AC%B8%EC%9E%90%EC%97%B4%EC%95%95%EC%B6%95.ipynb\" target=\"_parent\"><img src=\"https://colab.research.google.com/assets/colab-badge.svg\" alt=\"Open In Colab\"/></a>"
      ]
    },
    {
      "cell_type": "code",
      "metadata": {
        "id": "QNfcqGf-lNyP"
      },
      "source": [
        "s = 'ababccddeebc'"
      ],
      "execution_count": 51,
      "outputs": []
    },
    {
      "cell_type": "code",
      "metadata": {
        "id": "exxmkwBadF9O"
      },
      "source": [
        "s = 'aabbaccc' \n"
      ],
      "execution_count": 46,
      "outputs": []
    },
    {
      "cell_type": "code",
      "metadata": {
        "id": "pGzUKufhs2Og"
      },
      "source": [
        "def solution(s):\n",
        "    result = []\n",
        "    for want_sep in range(1,len(s)):\n",
        "        post_s = []\n",
        "        answer_lst = []\n",
        "        box = ''\n",
        "        index = 0\n",
        "        for i in range(0,len(s),want_sep):\n",
        "            post_s.append(s[i:i+want_sep])\n",
        "        \n",
        "        for cur in post_s:\n",
        "            if index == 0:\n",
        "                answer_lst.append([1,cur])\n",
        "                past = cur\n",
        "                pass  \n",
        "            else:\n",
        "                if past == cur:\n",
        "                    answer_lst[-1][0] += 1\n",
        "                else:\n",
        "                    answer_lst.append([1,cur])\n",
        "                    past = cur\n",
        "            index += 1\n",
        "\n",
        "        for each in answer_lst:\n",
        "            if each[0] != 1:\n",
        "                box = box + str(each[0])\n",
        "            box = box + each[1]\n",
        "        result.append(len(box))\n",
        "    return min(result)"
      ],
      "execution_count": 85,
      "outputs": []
    },
    {
      "cell_type": "code",
      "metadata": {
        "colab": {
          "base_uri": "https://localhost:8080/"
        },
        "id": "OtS6mcn3s638",
        "outputId": "124eb203-0fa7-474f-a672-3635b4209e97"
      },
      "source": [
        "solution('aabbaccc')"
      ],
      "execution_count": 86,
      "outputs": [
        {
          "output_type": "execute_result",
          "data": {
            "text/plain": [
              "7"
            ]
          },
          "metadata": {
            "tags": []
          },
          "execution_count": 86
        }
      ]
    },
    {
      "cell_type": "code",
      "metadata": {
        "colab": {
          "base_uri": "https://localhost:8080/"
        },
        "id": "mdr5K10Vlmvs",
        "outputId": "71a16744-a56d-4e03-b8b2-b45b4890fce3"
      },
      "source": [
        "#make to string --> each\n",
        "#ababa--> [a],[b],[a],[b],[a]\n",
        "post_s = []\n",
        "want_sep = 1\n",
        "for i in range(0,len(s),want_sep):\n",
        "  post_s.append(s[i:i+want_sep])\n",
        "\n",
        "print(post_s)"
      ],
      "execution_count": 63,
      "outputs": [
        {
          "output_type": "stream",
          "text": [
            "['a', 'b', 'a', 'b', 'c', 'c', 'd', 'd', 'e', 'e', 'b', 'c']\n"
          ],
          "name": "stdout"
        }
      ]
    },
    {
      "cell_type": "code",
      "metadata": {
        "colab": {
          "base_uri": "https://localhost:8080/"
        },
        "id": "lZQA0yn0dPTA",
        "outputId": "21d25603-01f6-454e-f004-64d1ed7cbd1e"
      },
      "source": [
        "# make to\n",
        "# [[2,a],[2,b],[1,a],[3,c]]\n",
        "answer_lst = []\n",
        "box = ''\n",
        "index = 0\n",
        "\n",
        "for cur in post_s:\n",
        "  if index == 0:\n",
        "    answer_lst.append([1,cur])\n",
        "    past = cur\n",
        "    pass  \n",
        "  else:\n",
        "    if past == cur:\n",
        "      answer_lst[-1][0] += 1\n",
        "    else:\n",
        "      answer_lst.append([1,cur])\n",
        "      past = cur\n",
        "  index += 1\n",
        "for each in answer_lst:\n",
        "  if each[0] != 1:\n",
        "    box = box + str(each[0])\n",
        "  box = box + each[1]\n",
        "\n",
        "print(len(box),box)  \n",
        "  "
      ],
      "execution_count": 64,
      "outputs": [
        {
          "output_type": "stream",
          "text": [
            "12 abab2c2d2ebc\n"
          ],
          "name": "stdout"
        }
      ]
    },
    {
      "cell_type": "markdown",
      "metadata": {
        "id": "YSyHPK5rdO9z"
      },
      "source": [
        ""
      ]
    }
  ]
}