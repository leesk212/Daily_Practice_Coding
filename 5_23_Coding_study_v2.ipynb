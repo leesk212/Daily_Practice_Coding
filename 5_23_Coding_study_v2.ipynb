{
  "nbformat": 4,
  "nbformat_minor": 0,
  "metadata": {
    "colab": {
      "name": "5_23_Coding_study_v2.ipynb",
      "provenance": [],
      "collapsed_sections": [],
      "authorship_tag": "ABX9TyNENkDfeTSPrE+pxGyvQnMs",
      "include_colab_link": true
    },
    "kernelspec": {
      "name": "python3",
      "display_name": "Python 3"
    },
    "language_info": {
      "name": "python"
    }
  },
  "cells": [
    {
      "cell_type": "markdown",
      "metadata": {
        "id": "view-in-github",
        "colab_type": "text"
      },
      "source": [
        "<a href=\"https://colab.research.google.com/github/leesk212/Daily_Practice_Coding/blob/master/5_23_Coding_study_v2.ipynb\" target=\"_parent\"><img src=\"https://colab.research.google.com/assets/colab-badge.svg\" alt=\"Open In Colab\"/></a>"
      ]
    },
    {
      "cell_type": "markdown",
      "metadata": {
        "id": "IJ04AKm2AAfc"
      },
      "source": [
        "# Binary Search - this is coding test"
      ]
    },
    {
      "cell_type": "markdown",
      "metadata": {
        "id": "jFqxqoqnAEc6"
      },
      "source": [
        "## 2. Search part"
      ]
    },
    {
      "cell_type": "code",
      "metadata": {
        "colab": {
          "base_uri": "https://localhost:8080/"
        },
        "id": "-9qT7x7M_yf5",
        "outputId": "f1de29dc-15d8-4ed1-bc1f-4c792402b1c1"
      },
      "source": [
        "def binary_search(array, target, start, end):\n",
        "  while start <= end:\n",
        "    mid = (start+end) // 2\n",
        "    if array[mid] == target:\n",
        "      return mid\n",
        "    elif array[mid] > target:\n",
        "      end = mid - 1\n",
        "    else:\n",
        "      start = mid + 1\n",
        "  return None\n",
        "\n",
        "N = int(input())\n",
        "s_item = list(map(int, input().split()))\n",
        "M = int(input())\n",
        "c_item = list(map(int, input().split()))\n",
        "\n",
        "s_item = sorted(s_item)\n",
        "c_item = sorted(c_item)\n",
        "\n",
        "for req in c_item:\n",
        "  result = binary_search(s_item,req,0,N-1)\n",
        "  if result != None:\n",
        "    print(\"yes\",end=' ')\n",
        "  else:\n",
        "    print(\"no\", end=' ')\n",
        "\n",
        "\n",
        "\n",
        "\n"
      ],
      "execution_count": 3,
      "outputs": [
        {
          "output_type": "stream",
          "text": [
            "5\n",
            "8 3 7 9 2\n",
            "3\n",
            "5 7 9\n",
            "no yes yes "
          ],
          "name": "stdout"
        }
      ]
    },
    {
      "cell_type": "markdown",
      "metadata": {
        "id": "_6bV7yXlCtMa"
      },
      "source": [
        "## 3. Making TT"
      ]
    },
    {
      "cell_type": "code",
      "metadata": {
        "colab": {
          "base_uri": "https://localhost:8080/"
        },
        "id": "567SliuxC6Je",
        "outputId": "d11b64fb-9493-4c0c-fa75-5b1b39d0d63e"
      },
      "source": [
        "def binary_search(array, target, start, end):\n",
        "  while start <= end:\n",
        "    mid = (start+end) // 2\n",
        "    if array[mid] == target:\n",
        "      return mid\n",
        "    elif array[mid] > target:\n",
        "      end = mid - 1\n",
        "    else:\n",
        "      start = mid + 1\n",
        "  return None\n",
        "\n",
        "\n",
        "\n",
        "N,M = map(int,input().split())\n",
        "array = list(map(int,input().split()))\n",
        "\n",
        "array = sorted(array)\n",
        "\n",
        "max = array[-1]\n",
        "min = array[0]\n",
        "\n",
        "height_list = []\n",
        "remain_list = []\n",
        "\n",
        "\n",
        "for pre_answer in range(min,max+1): #10 ~ 19 \n",
        "  remain_TT = 0\n",
        "  for each_array_value in array: # 10 15 17 19\n",
        "    if pre_answer < each_array_value:\n",
        "      remain_TT = remain_TT + (each_array_value-pre_answer)\n",
        "\n",
        "  height_list.append(pre_answer)\n",
        "  remain_list.append(remain_TT)\n",
        "\n",
        "remain_list = sorted(remain_list)\n",
        "\n",
        "result = binary_search(remain_list,M,0,len(remain_list)-1)\n",
        "if result == None:\n",
        "  needed_idx = 0\n",
        "  # if there is no M in remain_list\n",
        "  # M is not exist, M <- update to the most similar value,(with bigger than original M)\n",
        "  for i, each_remain in enumerate(remain_list):\n",
        "    if M > each_value:\n",
        "      need_idx = i\n",
        "      break\n",
        "  result = binary_search(remain_list,need_idx,0,len(remain_list)-1)\n",
        "\n",
        "\n",
        "  \n",
        "\n",
        "\n",
        "print(height_list[result+1])\n",
        "\n",
        "\n",
        "\n"
      ],
      "execution_count": 21,
      "outputs": [
        {
          "output_type": "stream",
          "text": [
            "4 6\n",
            "19 15 10 17\n",
            "[0, 1, 2, 4, 6, 9, 12, 15, 18, 21]\n",
            "6\n",
            "15\n"
          ],
          "name": "stdout"
        }
      ]
    }
  ]
}