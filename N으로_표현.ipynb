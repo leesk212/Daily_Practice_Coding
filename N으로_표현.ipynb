{
  "nbformat": 4,
  "nbformat_minor": 0,
  "metadata": {
    "colab": {
      "name": "N으로 표현.ipynb",
      "provenance": [],
      "collapsed_sections": [],
      "authorship_tag": "ABX9TyPVwThM1xJhS4KQ4sJXoUsY",
      "include_colab_link": true
    },
    "kernelspec": {
      "name": "python3",
      "display_name": "Python 3"
    },
    "language_info": {
      "name": "python"
    }
  },
  "cells": [
    {
      "cell_type": "markdown",
      "metadata": {
        "id": "view-in-github",
        "colab_type": "text"
      },
      "source": [
        "<a href=\"https://colab.research.google.com/github/leesk212/Daily_Practice_Coding/blob/master/N%EC%9C%BC%EB%A1%9C_%ED%91%9C%ED%98%84.ipynb\" target=\"_parent\"><img src=\"https://colab.research.google.com/assets/colab-badge.svg\" alt=\"Open In Colab\"/></a>"
      ]
    },
    {
      "cell_type": "code",
      "metadata": {
        "colab": {
          "base_uri": "https://localhost:8080/",
          "height": 222
        },
        "id": "vajTuADL5nfk",
        "outputId": "01fca622-cbf8-4dc5-a569-981da7f13dda"
      },
      "source": [
        "a = [1,2,3,4,5,6,7]\n",
        "\n",
        "\n",
        "for i in a[1]:\n",
        "  print(i)"
      ],
      "execution_count": 1,
      "outputs": [
        {
          "output_type": "error",
          "ename": "TypeError",
          "evalue": "ignored",
          "traceback": [
            "\u001b[0;31m---------------------------------------------------------------------------\u001b[0m",
            "\u001b[0;31mTypeError\u001b[0m                                 Traceback (most recent call last)",
            "\u001b[0;32m<ipython-input-1-809a90eba312>\u001b[0m in \u001b[0;36m<module>\u001b[0;34m()\u001b[0m\n\u001b[1;32m      2\u001b[0m \u001b[0;34m\u001b[0m\u001b[0m\n\u001b[1;32m      3\u001b[0m \u001b[0;34m\u001b[0m\u001b[0m\n\u001b[0;32m----> 4\u001b[0;31m \u001b[0;32mfor\u001b[0m \u001b[0mi\u001b[0m \u001b[0;32min\u001b[0m \u001b[0ma\u001b[0m\u001b[0;34m[\u001b[0m\u001b[0;36m1\u001b[0m\u001b[0;34m]\u001b[0m\u001b[0;34m:\u001b[0m\u001b[0;34m\u001b[0m\u001b[0;34m\u001b[0m\u001b[0m\n\u001b[0m\u001b[1;32m      5\u001b[0m   \u001b[0mprint\u001b[0m\u001b[0;34m(\u001b[0m\u001b[0mi\u001b[0m\u001b[0;34m)\u001b[0m\u001b[0;34m\u001b[0m\u001b[0;34m\u001b[0m\u001b[0m\n",
            "\u001b[0;31mTypeError\u001b[0m: 'int' object is not iterable"
          ]
        }
      ]
    },
    {
      "cell_type": "code",
      "metadata": {
        "colab": {
          "base_uri": "https://localhost:8080/"
        },
        "id": "QBaayASf54t_",
        "outputId": "61c0d9c6-9b12-4889-91ea-f61eadaf49c7"
      },
      "source": [
        "answer = -1\n",
        "dp = []\n",
        "for i in range(1,9) : \n",
        "    all_case = set() # i = N의 개수\n",
        "    check_number = int(str(5)*i) # {N}, {NN} , {NNN}...\n",
        "    all_case.add(check_number)\n",
        "    for j in range(0,i-1): # //j 개를 사용해서 만든 값들\n",
        "      for op1 in dp[j]:\n",
        "          print(op1)\n",
        "          for op2 in dp[-j-1] :\n",
        "            print(op2)\n",
        "            all_case.add(op1 - op2)\n",
        "            all_case.add(op1 + op2)\n",
        "            all_case.add(op1 * op2)\n",
        "            if op2 != 0:\n",
        "              all_case.add(op1 // op2)\n",
        "    if 12 in all_case:\n",
        "        answer = i\n",
        "        break\n",
        "    dp.append(all_case) \n"
      ],
      "execution_count": 5,
      "outputs": [
        {
          "output_type": "stream",
          "text": [
            "5\n",
            "5\n",
            "5\n",
            "0\n",
            "1\n",
            "10\n",
            "55\n",
            "25\n",
            "0\n",
            "5\n",
            "1\n",
            "5\n",
            "10\n",
            "5\n",
            "55\n",
            "5\n",
            "25\n",
            "5\n",
            "5\n",
            "0\n",
            "2\n",
            "4\n",
            "5\n",
            "6\n",
            "555\n",
            "-20\n",
            "-4\n",
            "-50\n",
            "15\n",
            "11\n",
            "50\n",
            "275\n",
            "20\n",
            "-5\n",
            "60\n",
            "125\n",
            "30\n",
            "0\n",
            "0\n",
            "1\n",
            "10\n",
            "55\n",
            "25\n",
            "1\n",
            "0\n",
            "1\n",
            "10\n",
            "55\n",
            "25\n",
            "10\n",
            "0\n",
            "1\n",
            "10\n",
            "55\n",
            "25\n",
            "55\n",
            "0\n",
            "1\n",
            "10\n",
            "55\n",
            "25\n",
            "25\n",
            "0\n",
            "1\n",
            "10\n",
            "55\n",
            "25\n",
            "0\n",
            "5\n",
            "2\n",
            "5\n",
            "4\n",
            "5\n",
            "5\n",
            "5\n",
            "6\n",
            "5\n",
            "555\n",
            "5\n",
            "-20\n",
            "5\n",
            "-4\n",
            "5\n",
            "-50\n",
            "5\n",
            "15\n",
            "5\n",
            "11\n",
            "5\n",
            "50\n",
            "5\n",
            "275\n",
            "5\n",
            "20\n",
            "5\n",
            "-5\n",
            "5\n",
            "60\n",
            "5\n",
            "125\n",
            "5\n",
            "30\n",
            "5\n"
          ],
          "name": "stdout"
        }
      ]
    }
  ]
}