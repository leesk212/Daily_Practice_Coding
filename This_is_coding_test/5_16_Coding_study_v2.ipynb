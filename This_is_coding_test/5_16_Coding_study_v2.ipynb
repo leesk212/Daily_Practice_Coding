{
  "nbformat": 4,
  "nbformat_minor": 0,
  "metadata": {
    "colab": {
      "name": "5/16 코딩테스트.ipynb",
      "provenance": [],
      "authorship_tag": "ABX9TyP75uJU7Mp1lLVMObbm6gpX",
      "include_colab_link": true
    },
    "kernelspec": {
      "name": "python3",
      "display_name": "Python 3"
    },
    "language_info": {
      "name": "python"
    }
  },
  "cells": [
    {
      "cell_type": "markdown",
      "metadata": {
        "id": "view-in-github",
        "colab_type": "text"
      },
      "source": [
        "<a href=\"https://colab.research.google.com/github/leesk212/Daily_Practice_Coding/blob/master/5_16_Coding_study_v2.ipynb\" target=\"_parent\"><img src=\"https://colab.research.google.com/assets/colab-badge.svg\" alt=\"Open In Colab\"/></a>"
      ]
    },
    {
      "cell_type": "markdown",
      "metadata": {
        "id": "Xv8xG9MlBU-I"
      },
      "source": [
        "# 정렬 \n",
        "## 2 - 위에서 아래로\n",
        "\n",
        "\n"
      ]
    },
    {
      "cell_type": "code",
      "metadata": {
        "colab": {
          "base_uri": "https://localhost:8080/"
        },
        "id": "4pC0NHms5zbn",
        "outputId": "276c2463-246b-49b4-b819-dad40be57ca6"
      },
      "source": [
        "N = int(input())\n",
        "\n",
        "num = []\n",
        "for i in range(N):\n",
        "  num.append(int(input()))\n",
        "sorted(num, reverse=True)\n",
        "print(num)"
      ],
      "execution_count": 10,
      "outputs": [
        {
          "output_type": "stream",
          "text": [
            "3\n",
            "27\n",
            "15\n",
            "12\n",
            "[27, 15, 12]\n"
          ],
          "name": "stdout"
        }
      ]
    },
    {
      "cell_type": "markdown",
      "metadata": {
        "id": "FrcDNzDPBTBe"
      },
      "source": [
        "## 3 - 성적이 낮은 순서로 학생 출력하기\n"
      ]
    },
    {
      "cell_type": "code",
      "metadata": {
        "colab": {
          "base_uri": "https://localhost:8080/"
        },
        "id": "H8TJW8SmBuQp",
        "outputId": "92c048f3-9b01-4c46-b858-8c03bdad1e13"
      },
      "source": [
        "N = int(input())\n",
        "\n",
        "\n",
        "def setting(data):\n",
        "  return data[1]\n",
        "\n",
        "info = []\n",
        "\n",
        "for i in range(N):\n",
        "  name, grade = map(str,input().split())\n",
        "  info.append([name,int(grade)])\n",
        "\n",
        "info = sorted(info,key=setting)\n",
        "\n",
        "\n",
        "print(info)"
      ],
      "execution_count": 19,
      "outputs": [
        {
          "output_type": "stream",
          "text": [
            "2\n",
            "홍길동 95\n",
            "이순신 77\n",
            "[['이순신', 77], ['홍길동', 95]]\n"
          ],
          "name": "stdout"
        }
      ]
    },
    {
      "cell_type": "markdown",
      "metadata": {
        "id": "SEJfy7QZEGpx"
      },
      "source": [
        "## 4-두별의 원소 교체"
      ]
    },
    {
      "cell_type": "code",
      "metadata": {
        "colab": {
          "base_uri": "https://localhost:8080/"
        },
        "id": "gTeQDz5hELkg",
        "outputId": "dc7305ac-c0c3-4e62-9417-87cc93cd8581"
      },
      "source": [
        "N, K = map(int,input().split())\n",
        "A = list(map(int,input().split()))\n",
        "B = list(map(int,input().split()))\n",
        "\n",
        "A.sort()\n",
        "B.sort(reverse=True)\n",
        "\n",
        "print(A)\n",
        "print(B)\n",
        "\n",
        "for i in range(K):\n",
        "  if A[i]<B[i]:\n",
        "    A[i] = B[i]\n",
        "\n",
        "print(sum(A))\n",
        " \n"
      ],
      "execution_count": 29,
      "outputs": [
        {
          "output_type": "stream",
          "text": [
            "5 3\n",
            "1 2 5 4 3\n",
            "5 5 6 6 5\n",
            "[1, 2, 3, 4, 5]\n",
            "[6, 6, 5, 5, 5]\n",
            "26\n"
          ],
          "name": "stdout"
        }
      ]
    }
  ]
}
